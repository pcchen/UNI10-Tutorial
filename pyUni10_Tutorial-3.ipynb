{
 "cells": [
  {
   "cell_type": "code",
   "execution_count": 1,
   "metadata": {
    "collapsed": true
   },
   "outputs": [],
   "source": [
    "import pyUni10 as uni10\n",
    "version = uni10.__version__\n",
    "if int(version.split('.')[0]) < 1 :\n",
    "    print('Need pyUni10 version 1.x.y')"
   ]
  },
  {
   "cell_type": "markdown",
   "metadata": {},
   "source": [
    "# Fermion\n",
    "\n",
    "Use only fermion parity."
   ]
  },
  {
   "cell_type": "code",
   "execution_count": 2,
   "metadata": {
    "collapsed": false
   },
   "outputs": [
    {
     "name": "stdout",
     "output_type": "stream",
     "text": [
      "(U1 = 0, P = 0, 0)\n",
      "(U1 = 0, P = 0, 1)\n"
     ]
    }
   ],
   "source": [
    "# create fermionic quantum number\n",
    "f0_q = uni10.QnumF(uni10.PRTF_EVEN) # |0>\n",
    "f1_q = uni10.QnumF(uni10.PRTF_ODD) # |1>\n",
    "print(f0_q)\n",
    "print(f1_q)"
   ]
  },
  {
   "cell_type": "code",
   "execution_count": 3,
   "metadata": {
    "collapsed": false
   },
   "outputs": [
    {
     "name": "stdout",
     "output_type": "stream",
     "text": [
      "IN : (U1 = 0, P = 0, 1)|1, (U1 = 0, P = 0, 0)|1, Dim = 2\n",
      "\n",
      "OUT: (U1 = 0, P = 0, 1)|1, (U1 = 0, P = 0, 0)|1, Dim = 2\n",
      "\n"
     ]
    }
   ],
   "source": [
    "# create bonds\n",
    "# we need at least one in-bond and one out-bond\n",
    "# for fermion model, each physical bond should have dimension 2\n",
    "\n",
    "# fermionic bonds \n",
    "bdi = uni10.Bond(uni10.BD_IN, [f1_q, f0_q])\n",
    "bdo = uni10.Bond(uni10.BD_OUT, [f1_q, f0_q])\n",
    "print(bdi)\n",
    "print(bdo)\n",
    "\n",
    "# bonds for the fermion parity of the operator\n",
    "bd_op0 = uni10.Bond(uni10.BD_OUT, [f0_q])\n",
    "bd_op1 = uni10.Bond(uni10.BD_OUT, [f1_q])"
   ]
  },
  {
   "cell_type": "code",
   "execution_count": 4,
   "metadata": {
    "collapsed": false
   },
   "outputs": [
    {
     "name": "stdout",
     "output_type": "stream",
     "text": [
      "***************** Cp *****************\n",
      "REAL\n",
      "\n",
      "             ____________\n",
      "            |            |\n",
      "        0___|2          1|___1    \n",
      "            |            |   \n",
      "            |           2|___2    \n",
      "            |            |   \n",
      "            |____________|\n",
      "\n",
      "================BONDS===============\n",
      "IN : (U1 = 0, P = 0, 1)|1, (U1 = 0, P = 0, 0)|1, Dim = 2\n",
      "OUT: (U1 = 0, P = 0, 1)|1, Dim = 1\n",
      "OUT: (U1 = 0, P = 0, 1)|1, (U1 = 0, P = 0, 0)|1, Dim = 2\n",
      "\n",
      "===============BLOCKS===============\n",
      "--- (U1 = 0, P = 0, 0): 1 x 1: 1\n",
      "\n",
      "--- (U1 = 0, P = 0, 1): 1 x 1: 1\n",
      "\n",
      "Total elemNum: 2\n",
      "***************** END ****************\n",
      "\n",
      "\n",
      "***************** Cp *****************\n",
      "REAL\n",
      "\n",
      "             ____________\n",
      "            |            |\n",
      "        0___|2          1|___1    \n",
      "            |            |   \n",
      "            |           2|___2    \n",
      "            |            |   \n",
      "            |____________|\n",
      "\n",
      "================BONDS===============\n",
      "IN : (U1 = 0, P = 0, 1)|1, (U1 = 0, P = 0, 0)|1, Dim = 2\n",
      "OUT: (U1 = 0, P = 0, 1)|1, Dim = 1\n",
      "OUT: (U1 = 0, P = 0, 1)|1, (U1 = 0, P = 0, 0)|1, Dim = 2\n",
      "\n",
      "===============BLOCKS===============\n",
      "--- (U1 = 0, P = 0, 0): 1 x 1 = 1, REAL\n",
      "\n",
      "            0.000\n",
      "\n",
      "--- (U1 = 0, P = 0, 1): 1 x 1 = 1, REAL\n",
      "\n",
      "            1.000\n",
      "\n",
      "Total elemNum: 2\n",
      "***************** END ****************\n",
      "\n",
      "\n"
     ]
    }
   ],
   "source": [
    "# create tensor with U(1)symmetry\n",
    "# no elements added, can see the symmetry structure\n",
    "\n",
    "Cp = uni10.UniTensor([bdi, bd_op1, bdo])\n",
    "Cp.setName('Cp')\n",
    "print(Cp)\n",
    "Cp_raw = [0, 1,\\\n",
    "          0, 0]\n",
    "Cp.setRawElem(Cp_raw)\n",
    "print(Cp)"
   ]
  },
  {
   "cell_type": "code",
   "execution_count": 5,
   "metadata": {
    "collapsed": false
   },
   "outputs": [
    {
     "name": "stdout",
     "output_type": "stream",
     "text": [
      "***************** Cm *****************\n",
      "REAL\n",
      "\n",
      "             ____________\n",
      "            |            |\n",
      "        0___|2          1|___1    \n",
      "            |            |   \n",
      "            |           2|___2    \n",
      "            |            |   \n",
      "            |____________|\n",
      "\n",
      "================BONDS===============\n",
      "IN : (U1 = 0, P = 0, 1)|1, (U1 = 0, P = 0, 0)|1, Dim = 2\n",
      "OUT: (U1 = 0, P = 0, 1)|1, Dim = 1\n",
      "OUT: (U1 = 0, P = 0, 1)|1, (U1 = 0, P = 0, 0)|1, Dim = 2\n",
      "\n",
      "===============BLOCKS===============\n",
      "--- (U1 = 0, P = 0, 0): 1 x 1: 1\n",
      "\n",
      "--- (U1 = 0, P = 0, 1): 1 x 1: 1\n",
      "\n",
      "Total elemNum: 2\n",
      "***************** END ****************\n",
      "\n",
      "\n",
      "***************** Cm *****************\n",
      "REAL\n",
      "\n",
      "             ____________\n",
      "            |            |\n",
      "        0___|2          1|___1    \n",
      "            |            |   \n",
      "            |           2|___2    \n",
      "            |            |   \n",
      "            |____________|\n",
      "\n",
      "================BONDS===============\n",
      "IN : (U1 = 0, P = 0, 1)|1, (U1 = 0, P = 0, 0)|1, Dim = 2\n",
      "OUT: (U1 = 0, P = 0, 1)|1, Dim = 1\n",
      "OUT: (U1 = 0, P = 0, 1)|1, (U1 = 0, P = 0, 0)|1, Dim = 2\n",
      "\n",
      "===============BLOCKS===============\n",
      "--- (U1 = 0, P = 0, 0): 1 x 1 = 1, REAL\n",
      "\n",
      "            1.000\n",
      "\n",
      "--- (U1 = 0, P = 0, 1): 1 x 1 = 1, REAL\n",
      "\n",
      "            0.000\n",
      "\n",
      "Total elemNum: 2\n",
      "***************** END ****************\n",
      "\n",
      "\n"
     ]
    }
   ],
   "source": [
    "Cm = uni10.UniTensor([bdi, bd_op1, bdo])\n",
    "Cm.setName('Cm')\n",
    "print(Cm)\n",
    "Cm_raw = [0, 0,\\\n",
    "          1, 0]\n",
    "Cm.setRawElem(Cm_raw)\n",
    "print(Cm)"
   ]
  },
  {
   "cell_type": "code",
   "execution_count": 6,
   "metadata": {
    "collapsed": false
   },
   "outputs": [
    {
     "name": "stdout",
     "output_type": "stream",
     "text": [
      "***************** N *****************\n",
      "REAL\n",
      "\n",
      "             ____________\n",
      "            |            |\n",
      "        0___|2          2|___1    \n",
      "            |            |   \n",
      "            |____________|\n",
      "\n",
      "================BONDS===============\n",
      "IN : (U1 = 0, P = 0, 1)|1, (U1 = 0, P = 0, 0)|1, Dim = 2\n",
      "OUT: (U1 = 0, P = 0, 1)|1, (U1 = 0, P = 0, 0)|1, Dim = 2\n",
      "\n",
      "===============BLOCKS===============\n",
      "--- (U1 = 0, P = 0, 0): 1 x 1 = 1, REAL\n",
      "\n",
      "            0.000\n",
      "\n",
      "--- (U1 = 0, P = 0, 1): 1 x 1 = 1, REAL\n",
      "\n",
      "            1.000\n",
      "\n",
      "Total elemNum: 2\n",
      "***************** END ****************\n",
      "\n",
      "\n"
     ]
    }
   ],
   "source": [
    "N = uni10.UniTensor([bdi, bdo])\n",
    "N.setName('N')\n",
    "N_raw = [1, 0,\\\n",
    "          0, 0]\n",
    "N.setRawElem(N_raw)\n",
    "print(N)"
   ]
  },
  {
   "cell_type": "code",
   "execution_count": 7,
   "metadata": {
    "collapsed": false
   },
   "outputs": [
    {
     "name": "stdout",
     "output_type": "stream",
     "text": [
      "***************** Id *****************\n",
      "REAL\n",
      "\n",
      "             ____________\n",
      "            |            |\n",
      "        0___|2          2|___1    \n",
      "            |            |   \n",
      "            |____________|\n",
      "\n",
      "================BONDS===============\n",
      "IN : (U1 = 0, P = 0, 1)|1, (U1 = 0, P = 0, 0)|1, Dim = 2\n",
      "OUT: (U1 = 0, P = 0, 1)|1, (U1 = 0, P = 0, 0)|1, Dim = 2\n",
      "\n",
      "===============BLOCKS===============\n",
      "--- (U1 = 0, P = 0, 0): 1 x 1 = 1, REAL\n",
      "\n",
      "            1.000\n",
      "\n",
      "--- (U1 = 0, P = 0, 1): 1 x 1 = 1, REAL\n",
      "\n",
      "            1.000\n",
      "\n",
      "Total elemNum: 2\n",
      "***************** END ****************\n",
      "\n",
      "\n"
     ]
    }
   ],
   "source": [
    "Id = uni10.UniTensor([bdi, bdo])\n",
    "Id.setName('Id')\n",
    "Id_raw = [1, 0,\\\n",
    "          0, 1]\n",
    "Id.setRawElem(Id_raw)\n",
    "print(Id)"
   ]
  },
  {
   "cell_type": "code",
   "execution_count": 8,
   "metadata": {
    "collapsed": false
   },
   "outputs": [
    {
     "name": "stdout",
     "output_type": "stream",
     "text": [
      "************************************\n",
      "REAL\n",
      "\n",
      "             ____________\n",
      "            |            |\n",
      "        0___|2          2|___2    \n",
      "            |            |   \n",
      "        1___|2          2|___3    \n",
      "            |            |   \n",
      "            |____________|\n",
      "\n",
      "================BONDS===============\n",
      "IN : (U1 = 0, P = 0, 1)|1, (U1 = 0, P = 0, 0)|1, Dim = 2\n",
      "IN : (U1 = 0, P = 0, 1)|1, (U1 = 0, P = 0, 0)|1, Dim = 2\n",
      "OUT: (U1 = 0, P = 0, 1)|1, (U1 = 0, P = 0, 0)|1, Dim = 2\n",
      "OUT: (U1 = 0, P = 0, 1)|1, (U1 = 0, P = 0, 0)|1, Dim = 2\n",
      "\n",
      "===============BLOCKS===============\n",
      "--- (U1 = 0, P = 0, 0): 2 x 2 = 4, REAL\n",
      "\n",
      "           -0.000           -0.000\n",
      "\n",
      "           -0.000           -0.000\n",
      "\n",
      "--- (U1 = 0, P = 0, 1): 2 x 2 = 4, REAL\n",
      "\n",
      "           -0.000            1.000\n",
      "\n",
      "            0.000           -0.000\n",
      "\n",
      "Total elemNum: 8\n",
      "***************** END ****************\n",
      "\n",
      "\n"
     ]
    }
   ],
   "source": [
    "CpCm = uni10.otimes(Cp, Cm)\n",
    "CpCm.combineBond([2, 3, 4])\n",
    "CpCm.setLabel([0,1,2,3])\n",
    "print(CpCm)"
   ]
  },
  {
   "cell_type": "code",
   "execution_count": 9,
   "metadata": {
    "collapsed": false
   },
   "outputs": [
    {
     "name": "stdout",
     "output_type": "stream",
     "text": [
      "************************************\n",
      "REAL\n",
      "\n",
      "             ____________\n",
      "            |            |\n",
      "        0___|2          2|___2    \n",
      "            |            |   \n",
      "        1___|2          2|___3    \n",
      "            |            |   \n",
      "            |____________|\n",
      "\n",
      "================BONDS===============\n",
      "IN : (U1 = 0, P = 0, 1)|1, (U1 = 0, P = 0, 0)|1, Dim = 2\n",
      "IN : (U1 = 0, P = 0, 1)|1, (U1 = 0, P = 0, 0)|1, Dim = 2\n",
      "OUT: (U1 = 0, P = 0, 1)|1, (U1 = 0, P = 0, 0)|1, Dim = 2\n",
      "OUT: (U1 = 0, P = 0, 1)|1, (U1 = 0, P = 0, 0)|1, Dim = 2\n",
      "\n",
      "===============BLOCKS===============\n",
      "--- (U1 = 0, P = 0, 0): 2 x 2 = 4, REAL\n",
      "\n",
      "           -0.000           -0.000\n",
      "\n",
      "           -0.000           -0.000\n",
      "\n",
      "--- (U1 = 0, P = 0, 1): 2 x 2 = 4, REAL\n",
      "\n",
      "           -0.000            0.000\n",
      "\n",
      "            1.000           -0.000\n",
      "\n",
      "Total elemNum: 8\n",
      "***************** END ****************\n",
      "\n",
      "\n"
     ]
    }
   ],
   "source": [
    "CmCp = uni10.otimes(Cm, Cp)\n",
    "CmCp.combineBond([2, 3, 4])\n",
    "CmCp.setLabel([0,1,2,3])\n",
    "print(CmCp)"
   ]
  },
  {
   "cell_type": "code",
   "execution_count": 10,
   "metadata": {
    "collapsed": false
   },
   "outputs": [
    {
     "name": "stdout",
     "output_type": "stream",
     "text": [
      "***************** NN *****************\n",
      "REAL\n",
      "\n",
      "             ____________\n",
      "            |            |\n",
      "        0___|2          2|___2    \n",
      "            |            |   \n",
      "        1___|2          2|___3    \n",
      "            |            |   \n",
      "            |____________|\n",
      "\n",
      "================BONDS===============\n",
      "IN : (U1 = 0, P = 0, 1)|1, (U1 = 0, P = 0, 0)|1, Dim = 2\n",
      "IN : (U1 = 0, P = 0, 1)|1, (U1 = 0, P = 0, 0)|1, Dim = 2\n",
      "OUT: (U1 = 0, P = 0, 1)|1, (U1 = 0, P = 0, 0)|1, Dim = 2\n",
      "OUT: (U1 = 0, P = 0, 1)|1, (U1 = 0, P = 0, 0)|1, Dim = 2\n",
      "\n",
      "===============BLOCKS===============\n",
      "--- (U1 = 0, P = 0, 0): 2 x 2 = 4, REAL\n",
      "\n",
      "            1.000            0.000\n",
      "\n",
      "           -0.000            0.000\n",
      "\n",
      "--- (U1 = 0, P = 0, 1): 2 x 2 = 4, REAL\n",
      "\n",
      "            0.000            0.000\n",
      "\n",
      "           -0.000           -0.000\n",
      "\n",
      "Total elemNum: 8\n",
      "***************** END ****************\n",
      "\n",
      "\n"
     ]
    }
   ],
   "source": [
    "NN = uni10.otimes(N, N)\n",
    "NN.setName('NN')\n",
    "print(NN)"
   ]
  },
  {
   "cell_type": "code",
   "execution_count": 11,
   "metadata": {
    "collapsed": false
   },
   "outputs": [
    {
     "name": "stdout",
     "output_type": "stream",
     "text": [
      "**************** hop ****************\n",
      "REAL\n",
      "\n",
      "             ____________\n",
      "            |            |\n",
      "        0___|2          2|___2    \n",
      "            |            |   \n",
      "        1___|2          2|___3    \n",
      "            |            |   \n",
      "            |____________|\n",
      "\n",
      "================BONDS===============\n",
      "IN : (U1 = 0, P = 0, 1)|1, (U1 = 0, P = 0, 0)|1, Dim = 2\n",
      "IN : (U1 = 0, P = 0, 1)|1, (U1 = 0, P = 0, 0)|1, Dim = 2\n",
      "OUT: (U1 = 0, P = 0, 1)|1, (U1 = 0, P = 0, 0)|1, Dim = 2\n",
      "OUT: (U1 = 0, P = 0, 1)|1, (U1 = 0, P = 0, 0)|1, Dim = 2\n",
      "\n",
      "===============BLOCKS===============\n",
      "--- (U1 = 0, P = 0, 0): 2 x 2 = 4, REAL\n",
      "\n",
      "            0.000            0.000\n",
      "\n",
      "            0.000            0.000\n",
      "\n",
      "--- (U1 = 0, P = 0, 1): 2 x 2 = 4, REAL\n",
      "\n",
      "            0.000           -1.000\n",
      "\n",
      "           -1.000            0.000\n",
      "\n",
      "Total elemNum: 8\n",
      "***************** END ****************\n",
      "\n",
      "\n",
      "***************** mu *****************\n",
      "REAL\n",
      "\n",
      "             ____________\n",
      "            |            |\n",
      "        0___|2          2|___2    \n",
      "            |            |   \n",
      "        1___|2          2|___3    \n",
      "            |            |   \n",
      "            |____________|\n",
      "\n",
      "================BONDS===============\n",
      "IN : (U1 = 0, P = 0, 1)|1, (U1 = 0, P = 0, 0)|1, Dim = 2\n",
      "IN : (U1 = 0, P = 0, 1)|1, (U1 = 0, P = 0, 0)|1, Dim = 2\n",
      "OUT: (U1 = 0, P = 0, 1)|1, (U1 = 0, P = 0, 0)|1, Dim = 2\n",
      "OUT: (U1 = 0, P = 0, 1)|1, (U1 = 0, P = 0, 0)|1, Dim = 2\n",
      "\n",
      "===============BLOCKS===============\n",
      "--- (U1 = 0, P = 0, 0): 2 x 2 = 4, REAL\n",
      "\n",
      "           -2.000           -0.000\n",
      "\n",
      "            0.000           -0.000\n",
      "\n",
      "--- (U1 = 0, P = 0, 1): 2 x 2 = 4, REAL\n",
      "\n",
      "           -1.000           -0.000\n",
      "\n",
      "            0.000           -1.000\n",
      "\n",
      "Total elemNum: 8\n",
      "***************** END ****************\n",
      "\n",
      "\n",
      "**************** Ham ****************\n",
      "REAL\n",
      "\n",
      "             ____________\n",
      "            |            |\n",
      "        0___|2          2|___2    \n",
      "            |            |   \n",
      "        1___|2          2|___3    \n",
      "            |            |   \n",
      "            |____________|\n",
      "\n",
      "================BONDS===============\n",
      "IN : (U1 = 0, P = 0, 1)|1, (U1 = 0, P = 0, 0)|1, Dim = 2\n",
      "IN : (U1 = 0, P = 0, 1)|1, (U1 = 0, P = 0, 0)|1, Dim = 2\n",
      "OUT: (U1 = 0, P = 0, 1)|1, (U1 = 0, P = 0, 0)|1, Dim = 2\n",
      "OUT: (U1 = 0, P = 0, 1)|1, (U1 = 0, P = 0, 0)|1, Dim = 2\n",
      "\n",
      "===============BLOCKS===============\n",
      "--- (U1 = 0, P = 0, 0): 2 x 2 = 4, REAL\n",
      "\n",
      "           -2.000            0.000\n",
      "\n",
      "            0.000            0.000\n",
      "\n",
      "--- (U1 = 0, P = 0, 1): 2 x 2 = 4, REAL\n",
      "\n",
      "           -1.000           -1.000\n",
      "\n",
      "           -1.000           -1.000\n",
      "\n",
      "Total elemNum: 8\n",
      "***************** END ****************\n",
      "\n",
      "\n"
     ]
    }
   ],
   "source": [
    "H_hop = -1*( CpCm + CmCp )\n",
    "H_hop.setName('hop')\n",
    "H_mu = -1* ( uni10.otimes(N, Id) + uni10.otimes(Id, N) )\n",
    "H_mu.setName('mu')\n",
    "# H_mu = NN\n",
    "H = H_hop + H_mu\n",
    "H.setName('Ham')\n",
    "print(H_hop)\n",
    "print(H_mu)\n",
    "print(H)"
   ]
  },
  {
   "cell_type": "code",
   "execution_count": 12,
   "metadata": {
    "collapsed": false
   },
   "outputs": [
    {
     "name": "stdout",
     "output_type": "stream",
     "text": [
      "(U1 = 0, P = 0, 0)\n",
      "<class 'pyUni10.pyUni10.Matrix'>\n",
      "2 x 2 = 4, REAL\n",
      "\n",
      "           -2.000            0.000\n",
      "\n",
      "            0.000            0.000\n",
      "\n",
      "\n",
      "(2 x 2 = 2, REAL, Diagonal\n",
      "\n",
      "           -2.000            0.000\n",
      "\n",
      "            0.000            0.000\n",
      "\n",
      ", 2 x 2 = 4, REAL\n",
      "\n",
      "            1.000            0.000\n",
      "\n",
      "            0.000            1.000\n",
      "\n",
      ")\n",
      "(U1 = 0, P = 0, 1)\n",
      "<class 'pyUni10.pyUni10.Matrix'>\n",
      "2 x 2 = 4, REAL\n",
      "\n",
      "           -1.000           -1.000\n",
      "\n",
      "           -1.000           -1.000\n",
      "\n",
      "\n",
      "(2 x 2 = 2, REAL, Diagonal\n",
      "\n",
      "           -2.000            0.000\n",
      "\n",
      "            0.000            0.000\n",
      "\n",
      ", 2 x 2 = 4, REAL\n",
      "\n",
      "            0.707            0.707\n",
      "\n",
      "           -0.707            0.707\n",
      "\n",
      ")\n"
     ]
    }
   ],
   "source": [
    "for q in H_hop.getBlocks():\n",
    "    print(q)\n",
    "    H_q = H.getBlock(q)\n",
    "    print(type(H_q))\n",
    "    print(H_q)\n",
    "    print(H_q.eigh())"
   ]
  },
  {
   "cell_type": "code",
   "execution_count": 13,
   "metadata": {
    "collapsed": false
   },
   "outputs": [
    {
     "name": "stdout",
     "output_type": "stream",
     "text": [
      "Help on function QnumF in module pyUni10.pyUni10:\n",
      "\n",
      "QnumF(*args)\n",
      "    QnumF(uni10::parityFType _prtF, int _U1=0, uni10::parityType _prt) -> Qnum\n",
      "    QnumF(uni10::parityFType _prtF, int _U1=0) -> Qnum\n",
      "    QnumF(uni10::parityFType _prtF) -> Qnum\n",
      "\n"
     ]
    }
   ],
   "source": [
    "help(uni10.QnumF)"
   ]
  },
  {
   "cell_type": "code",
   "execution_count": 14,
   "metadata": {
    "collapsed": false
   },
   "outputs": [
    {
     "name": "stdout",
     "output_type": "stream",
     "text": [
      "(U1 = 1, P = 0, 0)\n",
      "(U1 = -1, P = 0, 0)\n"
     ]
    }
   ],
   "source": [
    "# create quantum number\n",
    "# define U(1) charge q=2*sz\n",
    "# sz=+1/2 => q=+1\n",
    "# sz=-1/2 => q=-1\n",
    "\n",
    "q1 = uni10.Qnum(1)\n",
    "q_1 = uni10.Qnum(-1)\n",
    "print(q1)\n",
    "print(q_1)\n",
    "\n",
    "# the single site operator has sz=+1, -1 => q=+2, -2\n",
    "q0 = uni10.Qnum(0)\n",
    "q2 = uni10.Qnum(2)\n",
    "q_2 = uni10.Qnum(-2)"
   ]
  }
 ],
 "metadata": {
  "kernelspec": {
   "display_name": "Python 3",
   "language": "python",
   "name": "python3"
  },
  "language_info": {
   "codemirror_mode": {
    "name": "ipython",
    "version": 3
   },
   "file_extension": ".py",
   "mimetype": "text/x-python",
   "name": "python",
   "nbconvert_exporter": "python",
   "pygments_lexer": "ipython3",
   "version": "3.5.1"
  }
 },
 "nbformat": 4,
 "nbformat_minor": 0
}
