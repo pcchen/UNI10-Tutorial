{
 "cells": [
  {
   "cell_type": "markdown",
   "metadata": {},
   "source": [
    "# pyUni10 Tutorial-1"
   ]
  },
  {
   "cell_type": "code",
   "execution_count": 1,
   "metadata": {
    "collapsed": false
   },
   "outputs": [],
   "source": [
    "import pyUni10 as uni10\n",
    "version = uni10.__version__\n",
    "if int(version.split('.')[0]) < 1 :\n",
    "    print('Need pyUni10 version 1.x.y')"
   ]
  },
  {
   "cell_type": "markdown",
   "metadata": {},
   "source": [
    "## S=1/2 XXZ model\n",
    "\n",
    "We will use S=1/2 XXZ model as an example"
   ]
  },
  {
   "cell_type": "markdown",
   "metadata": {},
   "source": [
    "### Without using U(1) symmetry"
   ]
  },
  {
   "cell_type": "code",
   "execution_count": 2,
   "metadata": {
    "collapsed": false
   },
   "outputs": [
    {
     "name": "stdout",
     "output_type": "stream",
     "text": [
      "(U1 = 0, P = 0, 0)\n"
     ]
    }
   ],
   "source": [
    "# create quantum number\n",
    "# use default quantum everywhere as a way to create tensor without U(1) symmetry\n",
    "# default quantum number (U1 = 0, P = 0, 0)\n",
    "q = uni10.Qnum()\n",
    "print(q)"
   ]
  },
  {
   "cell_type": "code",
   "execution_count": 3,
   "metadata": {
    "collapsed": false
   },
   "outputs": [
    {
     "name": "stdout",
     "output_type": "stream",
     "text": [
      "IN : (U1 = 0, P = 0, 0)|2, Dim = 2\n",
      "\n",
      "OUT: (U1 = 0, P = 0, 0)|2, Dim = 2\n",
      "\n"
     ]
    }
   ],
   "source": [
    "# create bonds\n",
    "# we need at least one in-bond and one out-bond\n",
    "# for S=1/2 model, each physical bond should have dimension 2\n",
    "\n",
    "# bonds without U(1) symmetry\n",
    "bdi = uni10.Bond(uni10.BD_IN, [q, q])\n",
    "bdo = uni10.Bond(uni10.BD_OUT, [q, q])\n",
    "\n",
    "print(bdi)\n",
    "print(bdo)"
   ]
  },
  {
   "cell_type": "code",
   "execution_count": 4,
   "metadata": {
    "collapsed": false
   },
   "outputs": [
    {
     "name": "stdout",
     "output_type": "stream",
     "text": [
      "***************** Id *****************\n",
      "REAL\n",
      "\n",
      "             ____________\n",
      "            |            |\n",
      "        0___|2          2|___1    \n",
      "            |            |   \n",
      "            |____________|\n",
      "\n",
      "================BONDS===============\n",
      "IN : (U1 = 0, P = 0, 0)|2, Dim = 2\n",
      "OUT: (U1 = 0, P = 0, 0)|2, Dim = 2\n",
      "\n",
      "===============BLOCKS===============\n",
      "--- (U1 = 0, P = 0, 0): 2 x 2 = 4, REAL\n",
      "\n",
      "            1.000            0.000\n",
      "\n",
      "            0.000            1.000\n",
      "\n",
      "Total elemNum: 4\n",
      "***************** END ****************\n",
      "\n",
      "\n",
      "***************** Sp *****************\n",
      "REAL\n",
      "\n",
      "             ____________\n",
      "            |            |\n",
      "        0___|2          2|___1    \n",
      "            |            |   \n",
      "            |____________|\n",
      "\n",
      "================BONDS===============\n",
      "IN : (U1 = 0, P = 0, 0)|2, Dim = 2\n",
      "OUT: (U1 = 0, P = 0, 0)|2, Dim = 2\n",
      "\n",
      "===============BLOCKS===============\n",
      "--- (U1 = 0, P = 0, 0): 2 x 2 = 4, REAL\n",
      "\n",
      "            0.000            1.000\n",
      "\n",
      "            0.000            0.000\n",
      "\n",
      "Total elemNum: 4\n",
      "***************** END ****************\n",
      "\n",
      "\n",
      "***************** Sm *****************\n",
      "REAL\n",
      "\n",
      "             ____________\n",
      "            |            |\n",
      "        0___|2          2|___1    \n",
      "            |            |   \n",
      "            |____________|\n",
      "\n",
      "================BONDS===============\n",
      "IN : (U1 = 0, P = 0, 0)|2, Dim = 2\n",
      "OUT: (U1 = 0, P = 0, 0)|2, Dim = 2\n",
      "\n",
      "===============BLOCKS===============\n",
      "--- (U1 = 0, P = 0, 0): 2 x 2 = 4, REAL\n",
      "\n",
      "            0.000            0.000\n",
      "\n",
      "            1.000            0.000\n",
      "\n",
      "Total elemNum: 4\n",
      "***************** END ****************\n",
      "\n",
      "\n",
      "***************** Sz *****************\n",
      "REAL\n",
      "\n",
      "             ____________\n",
      "            |            |\n",
      "        0___|2          2|___1    \n",
      "            |            |   \n",
      "            |____________|\n",
      "\n",
      "================BONDS===============\n",
      "IN : (U1 = 0, P = 0, 0)|2, Dim = 2\n",
      "OUT: (U1 = 0, P = 0, 0)|2, Dim = 2\n",
      "\n",
      "===============BLOCKS===============\n",
      "--- (U1 = 0, P = 0, 0): 2 x 2 = 4, REAL\n",
      "\n",
      "            0.500            0.000\n",
      "\n",
      "            0.000           -0.500\n",
      "\n",
      "Total elemNum: 4\n",
      "***************** END ****************\n",
      "\n",
      "\n"
     ]
    }
   ],
   "source": [
    "# create tensors for single-site operators: Id, Sp, Sm, Sz \n",
    "\n",
    "#  Id\n",
    "Id = uni10.UniTensor([bdi, bdo])\n",
    "Id.setName('Id')\n",
    "Id_raw = [1, 0,\\\n",
    "          0, 1]\n",
    "Id.setRawElem(Id_raw)\n",
    "print(Id)\n",
    "\n",
    "# Sp\n",
    "Sp = uni10.UniTensor([bdi, bdo])\n",
    "Sp.setName('Sp')\n",
    "Sp_raw = [0, 1,\\\n",
    "          0, 0]\n",
    "Sp.setRawElem(Sp_raw)\n",
    "print(Sp)\n",
    "\n",
    "# Sm\n",
    "Sm = uni10.UniTensor([bdi, bdo])\n",
    "Sm.setName('Sm')\n",
    "Sm_raw = [0, 0,\\\n",
    "          1, 0]\n",
    "Sm.setRawElem(Sm_raw)\n",
    "print(Sm)\n",
    "\n",
    "# Sz\n",
    "Sz = uni10.UniTensor([bdi, bdo])\n",
    "Sz.setName('Sz')\n",
    "Sz_raw = [+0.5, 0,\\\n",
    "          0, -0.5]\n",
    "Sz.setRawElem(Sz_raw)\n",
    "print(Sz)"
   ]
  },
  {
   "cell_type": "code",
   "execution_count": 5,
   "metadata": {
    "collapsed": false
   },
   "outputs": [],
   "source": [
    "# create tensos for two-site operators\n",
    "IdId = uni10.otimes(Id, Id)\n",
    "SpSm = uni10.otimes(Sp, Sm)\n",
    "SmSp = uni10.otimes(Sm, Sp)\n",
    "SzSz = uni10.otimes(Sz, Sz)"
   ]
  },
  {
   "cell_type": "code",
   "execution_count": 6,
   "metadata": {
    "collapsed": false
   },
   "outputs": [
    {
     "name": "stdout",
     "output_type": "stream",
     "text": [
      "************************************\n",
      "REAL\n",
      "\n",
      "             ____________\n",
      "            |            |\n",
      "        0___|2          2|___2    \n",
      "            |            |   \n",
      "        1___|2          2|___3    \n",
      "            |            |   \n",
      "            |____________|\n",
      "\n",
      "================BONDS===============\n",
      "IN : (U1 = 0, P = 0, 0)|2, Dim = 2\n",
      "IN : (U1 = 0, P = 0, 0)|2, Dim = 2\n",
      "OUT: (U1 = 0, P = 0, 0)|2, Dim = 2\n",
      "OUT: (U1 = 0, P = 0, 0)|2, Dim = 2\n",
      "\n",
      "===============BLOCKS===============\n",
      "--- (U1 = 0, P = 0, 0): 4 x 4 = 16, REAL\n",
      "\n",
      "            0.000            0.000            0.000            0.000\n",
      "\n",
      "            0.000            0.000            1.000            0.000\n",
      "\n",
      "            0.000            0.000            0.000            0.000\n",
      "\n",
      "            0.000            0.000            0.000            0.000\n",
      "\n",
      "Total elemNum: 16\n",
      "***************** END ****************\n",
      "\n",
      "\n"
     ]
    }
   ],
   "source": [
    "print(SpSm)"
   ]
  },
  {
   "cell_type": "code",
   "execution_count": 7,
   "metadata": {
    "collapsed": false
   },
   "outputs": [
    {
     "name": "stdout",
     "output_type": "stream",
     "text": [
      "************************************\n",
      "REAL\n",
      "\n",
      "             ____________\n",
      "            |            |\n",
      "        0___|2          2|___1    \n",
      "            |            |   \n",
      "       -1___|2          2|___-2   \n",
      "            |            |   \n",
      "            |____________|\n",
      "\n",
      "================BONDS===============\n",
      "IN : (U1 = 0, P = 0, 0)|2, Dim = 2\n",
      "IN : (U1 = 0, P = 0, 0)|2, Dim = 2\n",
      "OUT: (U1 = 0, P = 0, 0)|2, Dim = 2\n",
      "OUT: (U1 = 0, P = 0, 0)|2, Dim = 2\n",
      "\n",
      "===============BLOCKS===============\n",
      "--- (U1 = 0, P = 0, 0): 4 x 4 = 16, REAL\n",
      "\n",
      "            0.000            0.000            0.000            0.000\n",
      "\n",
      "            0.000            0.000            1.000            0.000\n",
      "\n",
      "            0.000            0.000            0.000            0.000\n",
      "\n",
      "            0.000            0.000            0.000            0.000\n",
      "\n",
      "Total elemNum: 16\n",
      "***************** END ****************\n",
      "\n",
      "\n"
     ]
    }
   ],
   "source": [
    "Sm.setLabel([-1,-2])\n",
    "print(Sp*Sm)"
   ]
  },
  {
   "cell_type": "code",
   "execution_count": 8,
   "metadata": {
    "collapsed": false
   },
   "outputs": [
    {
     "name": "stdout",
     "output_type": "stream",
     "text": [
      "************************************\n",
      "REAL\n",
      "\n",
      "             ____________\n",
      "            |            |\n",
      "        0___|2          2|___2    \n",
      "            |            |   \n",
      "        1___|2          2|___3    \n",
      "            |            |   \n",
      "            |____________|\n",
      "\n",
      "================BONDS===============\n",
      "IN : (U1 = 0, P = 0, 0)|2, Dim = 2\n",
      "IN : (U1 = 0, P = 0, 0)|2, Dim = 2\n",
      "OUT: (U1 = 0, P = 0, 0)|2, Dim = 2\n",
      "OUT: (U1 = 0, P = 0, 0)|2, Dim = 2\n",
      "\n",
      "===============BLOCKS===============\n",
      "--- (U1 = 0, P = 0, 0): 4 x 4 = 16, REAL\n",
      "\n",
      "            0.000            0.000            0.000            0.000\n",
      "\n",
      "            0.000            0.000            0.000            0.000\n",
      "\n",
      "            0.000            1.000            0.000            0.000\n",
      "\n",
      "            0.000            0.000            0.000            0.000\n",
      "\n",
      "Total elemNum: 16\n",
      "***************** END ****************\n",
      "\n",
      "\n"
     ]
    }
   ],
   "source": [
    "print(SmSp)"
   ]
  },
  {
   "cell_type": "code",
   "execution_count": 9,
   "metadata": {
    "collapsed": false
   },
   "outputs": [
    {
     "name": "stdout",
     "output_type": "stream",
     "text": [
      "************************************\n",
      "REAL\n",
      "\n",
      "             ____________\n",
      "            |            |\n",
      "        0___|2          2|___2    \n",
      "            |            |   \n",
      "        1___|2          2|___3    \n",
      "            |            |   \n",
      "            |____________|\n",
      "\n",
      "================BONDS===============\n",
      "IN : (U1 = 0, P = 0, 0)|2, Dim = 2\n",
      "IN : (U1 = 0, P = 0, 0)|2, Dim = 2\n",
      "OUT: (U1 = 0, P = 0, 0)|2, Dim = 2\n",
      "OUT: (U1 = 0, P = 0, 0)|2, Dim = 2\n",
      "\n",
      "===============BLOCKS===============\n",
      "--- (U1 = 0, P = 0, 0): 4 x 4 = 16, REAL\n",
      "\n",
      "            0.250            0.000            0.000            0.000\n",
      "\n",
      "            0.000           -0.250            0.000            0.000\n",
      "\n",
      "            0.000            0.000           -0.250            0.000\n",
      "\n",
      "            0.000            0.000            0.000            0.250\n",
      "\n",
      "Total elemNum: 16\n",
      "***************** END ****************\n",
      "\n",
      "\n"
     ]
    }
   ],
   "source": [
    "print(SzSz)"
   ]
  },
  {
   "cell_type": "code",
   "execution_count": 20,
   "metadata": {
    "collapsed": false
   },
   "outputs": [
    {
     "name": "stdout",
     "output_type": "stream",
     "text": [
      "************************************\n",
      "REAL\n",
      "\n",
      "             ____________\n",
      "            |            |\n",
      "        0___|2          2|___2    \n",
      "            |            |   \n",
      "        1___|2          2|___3    \n",
      "            |            |   \n",
      "            |____________|\n",
      "\n",
      "================BONDS===============\n",
      "IN : (U1 = 0, P = 0, 0)|2, Dim = 2\n",
      "IN : (U1 = 0, P = 0, 0)|2, Dim = 2\n",
      "OUT: (U1 = 0, P = 0, 0)|2, Dim = 2\n",
      "OUT: (U1 = 0, P = 0, 0)|2, Dim = 2\n",
      "\n",
      "===============BLOCKS===============\n",
      "--- (U1 = 0, P = 0, 0): 4 x 4 = 16, REAL\n",
      "\n",
      "            0.250            0.000            0.000            0.000\n",
      "\n",
      "            0.000           -0.250            0.500            0.000\n",
      "\n",
      "            0.000            0.500           -0.250            0.000\n",
      "\n",
      "            0.000            0.000            0.000            0.250\n",
      "\n",
      "Total elemNum: 16\n",
      "***************** END ****************\n",
      "\n",
      "\n"
     ]
    }
   ],
   "source": [
    "H = 0.5 * (SpSm + SmSp) + SzSz\n",
    "print(H)"
   ]
  },
  {
   "cell_type": "code",
   "execution_count": 26,
   "metadata": {
    "collapsed": false
   },
   "outputs": [
    {
     "name": "stdout",
     "output_type": "stream",
     "text": [
      " E_0 = -0.750000, |E_0> =\n",
      "0.000000, 0.707107, -0.707107, 0.000000, \n",
      " E_1 = 0.250000, |E_1> =\n",
      "1.000000, 0.000000, 0.000000, 0.000000, \n",
      " E_2 = 0.250000, |E_2> =\n",
      "-0.000000, 0.707107, 0.707107, 0.000000, \n",
      " E_3 = 0.250000, |E_3> =\n",
      "0.000000, 0.000000, 0.000000, 1.000000, \n"
     ]
    }
   ],
   "source": [
    "H_Matrix = H.getBlock(q)\n",
    "Eng, Vec = H_Matrix.eigh()\n",
    "\n",
    "# eigenvalues & eigenvectors\n",
    "for i in range(4):\n",
    "    print(' E_{0} = {1:f}, |E_{2}> ='.format(i, Eng[i], i))\n",
    "#     print('|E_{0}> ='.format(i))\n",
    "    for j in range(4):\n",
    "        print('{0:f}'.format(Vec[4*i+j]), end=', ')\n",
    "    print()"
   ]
  },
  {
   "cell_type": "code",
   "execution_count": null,
   "metadata": {
    "collapsed": true
   },
   "outputs": [],
   "source": []
  }
 ],
 "metadata": {
  "kernelspec": {
   "display_name": "Python 3",
   "language": "python",
   "name": "python3"
  },
  "language_info": {
   "codemirror_mode": {
    "name": "ipython",
    "version": 3
   },
   "file_extension": ".py",
   "mimetype": "text/x-python",
   "name": "python",
   "nbconvert_exporter": "python",
   "pygments_lexer": "ipython3",
   "version": "3.5.1"
  }
 },
 "nbformat": 4,
 "nbformat_minor": 0
}
