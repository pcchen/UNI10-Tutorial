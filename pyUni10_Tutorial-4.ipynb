{
 "cells": [
  {
   "cell_type": "code",
   "execution_count": 9,
   "metadata": {
    "collapsed": true
   },
   "outputs": [],
   "source": [
    "import pyUni10 as uni10\n",
    "version = uni10.__version__\n",
    "if int(version.split('.')[0]) < 1 :\n",
    "    print('Need pyUni10 version 1.x.y')"
   ]
  },
  {
   "cell_type": "code",
   "execution_count": 17,
   "metadata": {
    "collapsed": false
   },
   "outputs": [
    {
     "name": "stdout",
     "output_type": "stream",
     "text": [
      "(U1 = 0, P = 0, 0)\n",
      "(U1 = 1, P = 0, 1)\n",
      "IN : (U1 = 1, P = 0, 1)|1, (U1 = 0, P = 0, 0)|1, Dim = 2\n",
      "\n",
      "OUT: (U1 = 1, P = 0, 1)|1, (U1 = 0, P = 0, 0)|1, Dim = 2\n",
      "\n"
     ]
    }
   ],
   "source": [
    "# create fermionic quantum number\n",
    "f0_q0 = uni10.QnumF(uni10.PRTF_EVEN, 0) # |0>\n",
    "f1_q1 = uni10.QnumF(uni10.PRTF_ODD, 1) # |1>\n",
    "print(f0_q0)\n",
    "print(f1_q1)\n",
    "\n",
    "# fermionic bonds \n",
    "print(bdi)\n",
    "print(bdo)"
   ]
  },
  {
   "cell_type": "code",
   "execution_count": 19,
   "metadata": {
    "collapsed": false
   },
   "outputs": [],
   "source": [
    "# create bonds\n",
    "# we need at least one in-bond and one out-bond\n",
    "# for fermion model, each physical bond should have dimension 2\n",
    "\n",
    "op_odd_q1 = uni10.QnumF(uni10.PRTF_ODD, +1)\n",
    "op_odd_q_1 = uni10.QnumF(uni10.PRTF_ODD, -1)\n",
    "\n",
    "bdi = uni10.Bond(uni10.BD_IN, [f1_q1, f0_q0])\n",
    "bdo = uni10.Bond(uni10.BD_OUT, [f1_q1, f0_q0])\n",
    "\n",
    "# bonds for the fermion parity of the operator\n",
    "# bd_op0 = uni10.Bond(uni10.BD_OUT, [f0_q0])\n",
    "bd_op1 = uni10.Bond(uni10.BD_OUT, [op_odd_q1])\n",
    "bd_op_1 = uni10.Bond(uni10.BD_OUT, [op_odd_q_1])"
   ]
  },
  {
   "cell_type": "code",
   "execution_count": 20,
   "metadata": {
    "collapsed": false
   },
   "outputs": [
    {
     "name": "stdout",
     "output_type": "stream",
     "text": [
      "***************** Cp *****************\n",
      "REAL\n",
      "\n",
      "             ____________\n",
      "            |            |\n",
      "        0___|2          1|___1    \n",
      "            |            |   \n",
      "            |           2|___2    \n",
      "            |            |   \n",
      "            |____________|\n",
      "\n",
      "================BONDS===============\n",
      "IN : (U1 = 1, P = 0, 1)|1, (U1 = 0, P = 0, 0)|1, Dim = 2\n",
      "OUT: (U1 = 1, P = 0, 1)|1, Dim = 1\n",
      "OUT: (U1 = 1, P = 0, 1)|1, (U1 = 0, P = 0, 0)|1, Dim = 2\n",
      "\n",
      "===============BLOCKS===============\n",
      "--- (U1 = 1, P = 0, 1): 1 x 1: 1\n",
      "\n",
      "Total elemNum: 1\n",
      "***************** END ****************\n",
      "\n",
      "\n",
      "***************** Cp *****************\n",
      "REAL\n",
      "\n",
      "             ____________\n",
      "            |            |\n",
      "        0___|2          1|___1    \n",
      "            |            |   \n",
      "            |           2|___2    \n",
      "            |            |   \n",
      "            |____________|\n",
      "\n",
      "================BONDS===============\n",
      "IN : (U1 = 1, P = 0, 1)|1, (U1 = 0, P = 0, 0)|1, Dim = 2\n",
      "OUT: (U1 = 1, P = 0, 1)|1, Dim = 1\n",
      "OUT: (U1 = 1, P = 0, 1)|1, (U1 = 0, P = 0, 0)|1, Dim = 2\n",
      "\n",
      "===============BLOCKS===============\n",
      "--- (U1 = 1, P = 0, 1): 1 x 1 = 1, REAL\n",
      "\n",
      "            1.000\n",
      "\n",
      "Total elemNum: 1\n",
      "***************** END ****************\n",
      "\n",
      "\n"
     ]
    }
   ],
   "source": [
    "# create tensor with U(1)symmetry\n",
    "# no elements added, can see the symmetry structure\n",
    "\n",
    "Cp = uni10.UniTensor([bdi, bd_op1, bdo])\n",
    "Cp.setName('Cp')\n",
    "print(Cp)\n",
    "Cp_raw = [0, 1,\\\n",
    "          0, 0]\n",
    "Cp.setRawElem(Cp_raw)\n",
    "print(Cp)"
   ]
  },
  {
   "cell_type": "code",
   "execution_count": 21,
   "metadata": {
    "collapsed": false
   },
   "outputs": [
    {
     "name": "stdout",
     "output_type": "stream",
     "text": [
      "***************** Cm *****************\n",
      "REAL\n",
      "\n",
      "             ____________\n",
      "            |            |\n",
      "        0___|2          1|___1    \n",
      "            |            |   \n",
      "            |           2|___2    \n",
      "            |            |   \n",
      "            |____________|\n",
      "\n",
      "================BONDS===============\n",
      "IN : (U1 = 1, P = 0, 1)|1, (U1 = 0, P = 0, 0)|1, Dim = 2\n",
      "OUT: (U1 = -1, P = 0, 1)|1, Dim = 1\n",
      "OUT: (U1 = 1, P = 0, 1)|1, (U1 = 0, P = 0, 0)|1, Dim = 2\n",
      "\n",
      "===============BLOCKS===============\n",
      "--- (U1 = 0, P = 0, 0): 1 x 1: 1\n",
      "\n",
      "Total elemNum: 1\n",
      "***************** END ****************\n",
      "\n",
      "\n",
      "***************** Cm *****************\n",
      "REAL\n",
      "\n",
      "             ____________\n",
      "            |            |\n",
      "        0___|2          1|___1    \n",
      "            |            |   \n",
      "            |           2|___2    \n",
      "            |            |   \n",
      "            |____________|\n",
      "\n",
      "================BONDS===============\n",
      "IN : (U1 = 1, P = 0, 1)|1, (U1 = 0, P = 0, 0)|1, Dim = 2\n",
      "OUT: (U1 = -1, P = 0, 1)|1, Dim = 1\n",
      "OUT: (U1 = 1, P = 0, 1)|1, (U1 = 0, P = 0, 0)|1, Dim = 2\n",
      "\n",
      "===============BLOCKS===============\n",
      "--- (U1 = 0, P = 0, 0): 1 x 1 = 1, REAL\n",
      "\n",
      "            1.000\n",
      "\n",
      "Total elemNum: 1\n",
      "***************** END ****************\n",
      "\n",
      "\n"
     ]
    }
   ],
   "source": [
    "Cm = uni10.UniTensor([bdi, bd_op_1, bdo])\n",
    "Cm.setName('Cm')\n",
    "print(Cm)\n",
    "Cm_raw = [0, 0,\\\n",
    "          1, 0]\n",
    "Cm.setRawElem(Cm_raw)\n",
    "print(Cm)"
   ]
  },
  {
   "cell_type": "code",
   "execution_count": 22,
   "metadata": {
    "collapsed": false
   },
   "outputs": [
    {
     "name": "stdout",
     "output_type": "stream",
     "text": [
      "***************** N *****************\n",
      "REAL\n",
      "\n",
      "             ____________\n",
      "            |            |\n",
      "        0___|2          2|___1    \n",
      "            |            |   \n",
      "            |____________|\n",
      "\n",
      "================BONDS===============\n",
      "IN : (U1 = 1, P = 0, 1)|1, (U1 = 0, P = 0, 0)|1, Dim = 2\n",
      "OUT: (U1 = 1, P = 0, 1)|1, (U1 = 0, P = 0, 0)|1, Dim = 2\n",
      "\n",
      "===============BLOCKS===============\n",
      "--- (U1 = 0, P = 0, 0): 1 x 1 = 1, REAL\n",
      "\n",
      "            0.000\n",
      "\n",
      "--- (U1 = 1, P = 0, 1): 1 x 1 = 1, REAL\n",
      "\n",
      "            1.000\n",
      "\n",
      "Total elemNum: 2\n",
      "***************** END ****************\n",
      "\n",
      "\n"
     ]
    }
   ],
   "source": [
    "N = uni10.UniTensor([bdi, bdo])\n",
    "N.setName('N')\n",
    "N_raw = [1, 0,\\\n",
    "          0, 0]\n",
    "N.setRawElem(N_raw)\n",
    "print(N)"
   ]
  },
  {
   "cell_type": "code",
   "execution_count": 23,
   "metadata": {
    "collapsed": false
   },
   "outputs": [
    {
     "name": "stdout",
     "output_type": "stream",
     "text": [
      "***************** Id *****************\n",
      "REAL\n",
      "\n",
      "             ____________\n",
      "            |            |\n",
      "        0___|2          2|___1    \n",
      "            |            |   \n",
      "            |____________|\n",
      "\n",
      "================BONDS===============\n",
      "IN : (U1 = 1, P = 0, 1)|1, (U1 = 0, P = 0, 0)|1, Dim = 2\n",
      "OUT: (U1 = 1, P = 0, 1)|1, (U1 = 0, P = 0, 0)|1, Dim = 2\n",
      "\n",
      "===============BLOCKS===============\n",
      "--- (U1 = 0, P = 0, 0): 1 x 1 = 1, REAL\n",
      "\n",
      "            1.000\n",
      "\n",
      "--- (U1 = 1, P = 0, 1): 1 x 1 = 1, REAL\n",
      "\n",
      "            1.000\n",
      "\n",
      "Total elemNum: 2\n",
      "***************** END ****************\n",
      "\n",
      "\n"
     ]
    }
   ],
   "source": [
    "Id = uni10.UniTensor([bdi, bdo])\n",
    "Id.setName('Id')\n",
    "Id_raw = [1, 0,\\\n",
    "          0, 1]\n",
    "Id.setRawElem(Id_raw)\n",
    "print(Id)"
   ]
  },
  {
   "cell_type": "code",
   "execution_count": 24,
   "metadata": {
    "collapsed": false
   },
   "outputs": [
    {
     "name": "stdout",
     "output_type": "stream",
     "text": [
      "************************************\n",
      "REAL\n",
      "\n",
      "             ____________\n",
      "            |            |\n",
      "        0___|2          2|___2    \n",
      "            |            |   \n",
      "        1___|2          2|___3    \n",
      "            |            |   \n",
      "            |____________|\n",
      "\n",
      "================BONDS===============\n",
      "IN : (U1 = 1, P = 0, 1)|1, (U1 = 0, P = 0, 0)|1, Dim = 2\n",
      "IN : (U1 = 1, P = 0, 1)|1, (U1 = 0, P = 0, 0)|1, Dim = 2\n",
      "OUT: (U1 = 1, P = 0, 1)|1, (U1 = 0, P = 0, 0)|1, Dim = 2\n",
      "OUT: (U1 = 1, P = 0, 1)|1, (U1 = 0, P = 0, 0)|1, Dim = 2\n",
      "\n",
      "===============BLOCKS===============\n",
      "--- (U1 = 0, P = 0, 0): 1 x 1 = 1, REAL\n",
      "\n",
      "           -0.000\n",
      "\n",
      "--- (U1 = 1, P = 0, 1): 2 x 2 = 4, REAL\n",
      "\n",
      "           -0.000            1.000\n",
      "\n",
      "            0.000           -0.000\n",
      "\n",
      "--- (U1 = 2, P = 0, 0): 1 x 1 = 1, REAL\n",
      "\n",
      "           -0.000\n",
      "\n",
      "Total elemNum: 6\n",
      "***************** END ****************\n",
      "\n",
      "\n"
     ]
    }
   ],
   "source": [
    "CpCm = uni10.otimes(Cp, Cm)\n",
    "CpCm.combineBond([2, 3, 4])\n",
    "CpCm.setLabel([0,1,2,3])\n",
    "print(CpCm)"
   ]
  },
  {
   "cell_type": "code",
   "execution_count": 25,
   "metadata": {
    "collapsed": false
   },
   "outputs": [
    {
     "name": "stdout",
     "output_type": "stream",
     "text": [
      "************************************\n",
      "REAL\n",
      "\n",
      "             ____________\n",
      "            |            |\n",
      "        0___|2          2|___2    \n",
      "            |            |   \n",
      "        1___|2          2|___3    \n",
      "            |            |   \n",
      "            |____________|\n",
      "\n",
      "================BONDS===============\n",
      "IN : (U1 = 1, P = 0, 1)|1, (U1 = 0, P = 0, 0)|1, Dim = 2\n",
      "IN : (U1 = 1, P = 0, 1)|1, (U1 = 0, P = 0, 0)|1, Dim = 2\n",
      "OUT: (U1 = 1, P = 0, 1)|1, (U1 = 0, P = 0, 0)|1, Dim = 2\n",
      "OUT: (U1 = 1, P = 0, 1)|1, (U1 = 0, P = 0, 0)|1, Dim = 2\n",
      "\n",
      "===============BLOCKS===============\n",
      "--- (U1 = 0, P = 0, 0): 1 x 1 = 1, REAL\n",
      "\n",
      "           -0.000\n",
      "\n",
      "--- (U1 = 1, P = 0, 1): 2 x 2 = 4, REAL\n",
      "\n",
      "           -0.000            0.000\n",
      "\n",
      "            1.000           -0.000\n",
      "\n",
      "--- (U1 = 2, P = 0, 0): 1 x 1 = 1, REAL\n",
      "\n",
      "           -0.000\n",
      "\n",
      "Total elemNum: 6\n",
      "***************** END ****************\n",
      "\n",
      "\n"
     ]
    }
   ],
   "source": [
    "CmCp = uni10.otimes(Cm, Cp)\n",
    "CmCp.combineBond([2, 3, 4])\n",
    "CmCp.setLabel([0,1,2,3])\n",
    "print(CmCp)"
   ]
  },
  {
   "cell_type": "code",
   "execution_count": 26,
   "metadata": {
    "collapsed": false
   },
   "outputs": [
    {
     "name": "stdout",
     "output_type": "stream",
     "text": [
      "***************** NN *****************\n",
      "REAL\n",
      "\n",
      "             ____________\n",
      "            |            |\n",
      "        0___|2          2|___2    \n",
      "            |            |   \n",
      "        1___|2          2|___3    \n",
      "            |            |   \n",
      "            |____________|\n",
      "\n",
      "================BONDS===============\n",
      "IN : (U1 = 1, P = 0, 1)|1, (U1 = 0, P = 0, 0)|1, Dim = 2\n",
      "IN : (U1 = 1, P = 0, 1)|1, (U1 = 0, P = 0, 0)|1, Dim = 2\n",
      "OUT: (U1 = 1, P = 0, 1)|1, (U1 = 0, P = 0, 0)|1, Dim = 2\n",
      "OUT: (U1 = 1, P = 0, 1)|1, (U1 = 0, P = 0, 0)|1, Dim = 2\n",
      "\n",
      "===============BLOCKS===============\n",
      "--- (U1 = 0, P = 0, 0): 1 x 1 = 1, REAL\n",
      "\n",
      "            0.000\n",
      "\n",
      "--- (U1 = 1, P = 0, 1): 2 x 2 = 4, REAL\n",
      "\n",
      "            0.000            0.000\n",
      "\n",
      "           -0.000           -0.000\n",
      "\n",
      "--- (U1 = 2, P = 0, 0): 1 x 1 = 1, REAL\n",
      "\n",
      "            1.000\n",
      "\n",
      "Total elemNum: 6\n",
      "***************** END ****************\n",
      "\n",
      "\n"
     ]
    }
   ],
   "source": [
    "NN = uni10.otimes(N, N)\n",
    "NN.setName('NN')\n",
    "print(NN)"
   ]
  },
  {
   "cell_type": "code",
   "execution_count": 31,
   "metadata": {
    "collapsed": false
   },
   "outputs": [
    {
     "name": "stdout",
     "output_type": "stream",
     "text": [
      "**************** hop ****************\n",
      "REAL\n",
      "\n",
      "             ____________\n",
      "            |            |\n",
      "        0___|2          2|___2    \n",
      "            |            |   \n",
      "        1___|2          2|___3    \n",
      "            |            |   \n",
      "            |____________|\n",
      "\n",
      "================BONDS===============\n",
      "IN : (U1 = 1, P = 0, 1)|1, (U1 = 0, P = 0, 0)|1, Dim = 2\n",
      "IN : (U1 = 1, P = 0, 1)|1, (U1 = 0, P = 0, 0)|1, Dim = 2\n",
      "OUT: (U1 = 1, P = 0, 1)|1, (U1 = 0, P = 0, 0)|1, Dim = 2\n",
      "OUT: (U1 = 1, P = 0, 1)|1, (U1 = 0, P = 0, 0)|1, Dim = 2\n",
      "\n",
      "===============BLOCKS===============\n",
      "--- (U1 = 0, P = 0, 0): 1 x 1 = 1, REAL\n",
      "\n",
      "            0.000\n",
      "\n",
      "--- (U1 = 1, P = 0, 1): 2 x 2 = 4, REAL\n",
      "\n",
      "            0.000           -1.000\n",
      "\n",
      "           -1.000            0.000\n",
      "\n",
      "--- (U1 = 2, P = 0, 0): 1 x 1 = 1, REAL\n",
      "\n",
      "            0.000\n",
      "\n",
      "Total elemNum: 6\n",
      "***************** END ****************\n",
      "\n",
      "\n",
      "***************** mu *****************\n",
      "REAL\n",
      "\n",
      "             ____________\n",
      "            |            |\n",
      "        0___|2          2|___2    \n",
      "            |            |   \n",
      "        1___|2          2|___3    \n",
      "            |            |   \n",
      "            |____________|\n",
      "\n",
      "================BONDS===============\n",
      "IN : (U1 = 1, P = 0, 1)|1, (U1 = 0, P = 0, 0)|1, Dim = 2\n",
      "IN : (U1 = 1, P = 0, 1)|1, (U1 = 0, P = 0, 0)|1, Dim = 2\n",
      "OUT: (U1 = 1, P = 0, 1)|1, (U1 = 0, P = 0, 0)|1, Dim = 2\n",
      "OUT: (U1 = 1, P = 0, 1)|1, (U1 = 0, P = 0, 0)|1, Dim = 2\n",
      "\n",
      "===============BLOCKS===============\n",
      "--- (U1 = 0, P = 0, 0): 1 x 1 = 1, REAL\n",
      "\n",
      "            0.000\n",
      "\n",
      "--- (U1 = 1, P = 0, 1): 2 x 2 = 4, REAL\n",
      "\n",
      "            1.000            0.000\n",
      "\n",
      "           -0.000            1.000\n",
      "\n",
      "--- (U1 = 2, P = 0, 0): 1 x 1 = 1, REAL\n",
      "\n",
      "            2.000\n",
      "\n",
      "Total elemNum: 6\n",
      "***************** END ****************\n",
      "\n",
      "\n",
      "**************** Ham ****************\n",
      "REAL\n",
      "\n",
      "             ____________\n",
      "            |            |\n",
      "        0___|2          2|___2    \n",
      "            |            |   \n",
      "        1___|2          2|___3    \n",
      "            |            |   \n",
      "            |____________|\n",
      "\n",
      "================BONDS===============\n",
      "IN : (U1 = 1, P = 0, 1)|1, (U1 = 0, P = 0, 0)|1, Dim = 2\n",
      "IN : (U1 = 1, P = 0, 1)|1, (U1 = 0, P = 0, 0)|1, Dim = 2\n",
      "OUT: (U1 = 1, P = 0, 1)|1, (U1 = 0, P = 0, 0)|1, Dim = 2\n",
      "OUT: (U1 = 1, P = 0, 1)|1, (U1 = 0, P = 0, 0)|1, Dim = 2\n",
      "\n",
      "===============BLOCKS===============\n",
      "--- (U1 = 0, P = 0, 0): 1 x 1 = 1, REAL\n",
      "\n",
      "            0.000\n",
      "\n",
      "--- (U1 = 1, P = 0, 1): 2 x 2 = 4, REAL\n",
      "\n",
      "            1.000           -1.000\n",
      "\n",
      "           -1.000            1.000\n",
      "\n",
      "--- (U1 = 2, P = 0, 0): 1 x 1 = 1, REAL\n",
      "\n",
      "            2.000\n",
      "\n",
      "Total elemNum: 6\n",
      "***************** END ****************\n",
      "\n",
      "\n"
     ]
    }
   ],
   "source": [
    "H_hop = -1*( CpCm + CmCp )\n",
    "H_hop.setName('hop')\n",
    "H_mu =  ( uni10.otimes(N, Id) + uni10.otimes(Id, N) )\n",
    "H_mu.setName('mu')\n",
    "# H_mu = NN\n",
    "H = H_hop + H_mu\n",
    "H.setName('Ham')\n",
    "print(H_hop)\n",
    "print(H_mu)\n",
    "print(H)"
   ]
  },
  {
   "cell_type": "code",
   "execution_count": 32,
   "metadata": {
    "collapsed": false
   },
   "outputs": [
    {
     "name": "stdout",
     "output_type": "stream",
     "text": [
      "(U1 = 0, P = 0, 0)\n",
      "(1 x 1 = 1, REAL, Diagonal\n",
      "\n",
      "            0.000\n",
      "\n",
      ", 1 x 1 = 1, REAL\n",
      "\n",
      "            1.000\n",
      "\n",
      ")\n",
      "(U1 = 1, P = 0, 1)\n",
      "(2 x 2 = 2, REAL, Diagonal\n",
      "\n",
      "            0.000            0.000\n",
      "\n",
      "            0.000            2.000\n",
      "\n",
      ", 2 x 2 = 4, REAL\n",
      "\n",
      "           -0.707           -0.707\n",
      "\n",
      "           -0.707            0.707\n",
      "\n",
      ")\n",
      "(U1 = 2, P = 0, 0)\n",
      "(1 x 1 = 1, REAL, Diagonal\n",
      "\n",
      "            2.000\n",
      "\n",
      ", 1 x 1 = 1, REAL\n",
      "\n",
      "            1.000\n",
      "\n",
      ")\n"
     ]
    }
   ],
   "source": [
    "for q in H.getBlocks():\n",
    "    print(q)\n",
    "    H_q = H.getBlock(q)\n",
    "#     print(type(H_q))\n",
    "#     print(H_q)\n",
    "    print(H_q.eigh())"
   ]
  }
 ],
 "metadata": {
  "kernelspec": {
   "display_name": "Python 3",
   "language": "python",
   "name": "python3"
  },
  "language_info": {
   "codemirror_mode": {
    "name": "ipython",
    "version": 3
   },
   "file_extension": ".py",
   "mimetype": "text/x-python",
   "name": "python",
   "nbconvert_exporter": "python",
   "pygments_lexer": "ipython3",
   "version": "3.5.1"
  }
 },
 "nbformat": 4,
 "nbformat_minor": 0
}
