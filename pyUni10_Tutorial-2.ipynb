{
 "cells": [
  {
   "cell_type": "code",
   "execution_count": 1,
   "metadata": {
    "collapsed": true
   },
   "outputs": [],
   "source": [
    "import pyUni10 as uni10\n",
    "version = uni10.__version__\n",
    "if int(version.split('.')[0]) < 1 :\n",
    "    print('Need pyUni10 version 1.x.y')"
   ]
  },
  {
   "cell_type": "markdown",
   "metadata": {},
   "source": [
    "## S=1/2 XXZ model\n",
    "\n",
    "We will use S=1/2 XXZ model as an example"
   ]
  },
  {
   "cell_type": "markdown",
   "metadata": {},
   "source": [
    "### Using U(1) symmetry"
   ]
  },
  {
   "cell_type": "code",
   "execution_count": 2,
   "metadata": {
    "collapsed": false
   },
   "outputs": [
    {
     "name": "stdout",
     "output_type": "stream",
     "text": [
      "(U1 = 1, P = 0, 0)\n",
      "(U1 = -1, P = 0, 0)\n"
     ]
    }
   ],
   "source": [
    "# create quantum number\n",
    "# define U(1) charge q=2*sz\n",
    "# sz=+1/2 => q=+1\n",
    "# sz=-1/2 => q=-1\n",
    "\n",
    "q1 = uni10.Qnum(1)\n",
    "q_1 = uni10.Qnum(-1)\n",
    "print(q1)\n",
    "print(q_1)\n",
    "\n",
    "# the single site operator has sz=+1, -1 => q=+2, -2\n",
    "q0 = uni10.Qnum(0)\n",
    "q2 = uni10.Qnum(2)\n",
    "q_2 = uni10.Qnum(-2)"
   ]
  },
  {
   "cell_type": "code",
   "execution_count": 3,
   "metadata": {
    "collapsed": false
   },
   "outputs": [],
   "source": [
    "# create bonds\n",
    "# we need at least one in-bond and one out-bond\n",
    "# for S=1/2 model, each physical bond should have dimension 2\n",
    "\n",
    "# bonds with U(1) symmetry\n",
    "bdi = uni10.Bond(uni10.BD_IN, [q1, q_1])\n",
    "bdo = uni10.Bond(uni10.BD_OUT, [q1, q_1])\n",
    "\n",
    "# bonds for the U(1) charge of the operator\n",
    "bd_op1 = uni10.Bond(uni10.BD_OUT, [q2])\n",
    "bd_op_1 = uni10.Bond(uni10.BD_OUT, [q_2])"
   ]
  },
  {
   "cell_type": "code",
   "execution_count": 4,
   "metadata": {
    "collapsed": false
   },
   "outputs": [
    {
     "name": "stdout",
     "output_type": "stream",
     "text": [
      "***************** Sp *****************\n",
      "REAL\n",
      "\n",
      "             ____________\n",
      "            |            |\n",
      "        0___|2          1|___1    \n",
      "            |            |   \n",
      "            |           2|___2    \n",
      "            |            |   \n",
      "            |____________|\n",
      "\n",
      "================BONDS===============\n",
      "IN : (U1 = 1, P = 0, 0)|1, (U1 = -1, P = 0, 0)|1, Dim = 2\n",
      "OUT: (U1 = 2, P = 0, 0)|1, Dim = 1\n",
      "OUT: (U1 = 1, P = 0, 0)|1, (U1 = -1, P = 0, 0)|1, Dim = 2\n",
      "\n",
      "===============BLOCKS===============\n",
      "--- (U1 = 1, P = 0, 0): 1 x 1: 1\n",
      "\n",
      "Total elemNum: 1\n",
      "***************** END ****************\n",
      "\n",
      "\n"
     ]
    }
   ],
   "source": [
    "# create tensor with U(1)symmetry\n",
    "# no elements added, can see the symmetry structure\n",
    "\n",
    "Sp = uni10.UniTensor([bdi, bd_op1, bdo])\n",
    "Sp.setName('Sp')\n",
    "# Sp.addRawElem(Sp_raw)\n",
    "print(Sp)"
   ]
  },
  {
   "cell_type": "code",
   "execution_count": 5,
   "metadata": {
    "collapsed": false
   },
   "outputs": [
    {
     "name": "stdout",
     "output_type": "stream",
     "text": [
      "***************** Sp *****************\n",
      "REAL\n",
      "\n",
      "             ____________\n",
      "            |            |\n",
      "        0___|2          1|___1    \n",
      "            |            |   \n",
      "            |           2|___2    \n",
      "            |            |   \n",
      "            |____________|\n",
      "\n",
      "================BONDS===============\n",
      "IN : (U1 = 1, P = 0, 0)|1, (U1 = -1, P = 0, 0)|1, Dim = 2\n",
      "OUT: (U1 = 2, P = 0, 0)|1, Dim = 1\n",
      "OUT: (U1 = 1, P = 0, 0)|1, (U1 = -1, P = 0, 0)|1, Dim = 2\n",
      "\n",
      "===============BLOCKS===============\n",
      "--- (U1 = 1, P = 0, 0): 1 x 1 = 1, REAL\n",
      "\n",
      "            1.000\n",
      "\n",
      "Total elemNum: 1\n",
      "***************** END ****************\n",
      "\n",
      "\n"
     ]
    }
   ],
   "source": [
    "# we can use the same raw-element! \n",
    "Sp_raw = [0, 1,\\\n",
    "          0, 0]\n",
    "Sp.setRawElem(Sp_raw)\n",
    "print(Sp)"
   ]
  },
  {
   "cell_type": "code",
   "execution_count": 6,
   "metadata": {
    "collapsed": false
   },
   "outputs": [
    {
     "name": "stdout",
     "output_type": "stream",
     "text": [
      "***************** Sm *****************\n",
      "REAL\n",
      "\n",
      "             ____________\n",
      "            |            |\n",
      "        0___|2          1|___1    \n",
      "            |            |   \n",
      "            |           2|___2    \n",
      "            |            |   \n",
      "            |____________|\n",
      "\n",
      "================BONDS===============\n",
      "IN : (U1 = 1, P = 0, 0)|1, (U1 = -1, P = 0, 0)|1, Dim = 2\n",
      "OUT: (U1 = -2, P = 0, 0)|1, Dim = 1\n",
      "OUT: (U1 = 1, P = 0, 0)|1, (U1 = -1, P = 0, 0)|1, Dim = 2\n",
      "\n",
      "===============BLOCKS===============\n",
      "--- (U1 = -1, P = 0, 0): 1 x 1 = 1, REAL\n",
      "\n",
      "            1.000\n",
      "\n",
      "Total elemNum: 1\n",
      "***************** END ****************\n",
      "\n",
      "\n"
     ]
    }
   ],
   "source": [
    "Sm = uni10.UniTensor([bdi, bd_op_1, bdo])\n",
    "Sm.setName('Sm')\n",
    "Sm_raw = [0, 0,\\\n",
    "          1, 0]\n",
    "Sm.setRawElem(Sm_raw)\n",
    "print(Sm)"
   ]
  },
  {
   "cell_type": "code",
   "execution_count": 7,
   "metadata": {
    "collapsed": false
   },
   "outputs": [
    {
     "name": "stdout",
     "output_type": "stream",
     "text": [
      "***************** Sz *****************\n",
      "REAL\n",
      "\n",
      "             ____________\n",
      "            |            |\n",
      "        0___|2          2|___1    \n",
      "            |            |   \n",
      "            |____________|\n",
      "\n",
      "================BONDS===============\n",
      "IN : (U1 = 1, P = 0, 0)|1, (U1 = -1, P = 0, 0)|1, Dim = 2\n",
      "OUT: (U1 = 1, P = 0, 0)|1, (U1 = -1, P = 0, 0)|1, Dim = 2\n",
      "\n",
      "===============BLOCKS===============\n",
      "--- (U1 = -1, P = 0, 0): 1 x 1 = 1, REAL\n",
      "\n",
      "           -0.500\n",
      "\n",
      "--- (U1 = 1, P = 0, 0): 1 x 1 = 1, REAL\n",
      "\n",
      "            0.500\n",
      "\n",
      "Total elemNum: 2\n",
      "***************** END ****************\n",
      "\n",
      "\n"
     ]
    }
   ],
   "source": [
    "Sz = uni10.UniTensor([bdi, bdo])\n",
    "Sz.setName('Sz')\n",
    "Sz_raw = [+0.5, 0,\\\n",
    "          0, -0.5]\n",
    "Sz.setRawElem(Sz_raw)\n",
    "print(Sz)"
   ]
  },
  {
   "cell_type": "code",
   "execution_count": 8,
   "metadata": {
    "collapsed": false
   },
   "outputs": [
    {
     "name": "stdout",
     "output_type": "stream",
     "text": [
      "************************************\n",
      "REAL\n",
      "\n",
      "             ____________\n",
      "            |            |\n",
      "        0___|2          1|___2    \n",
      "            |            |   \n",
      "        1___|2          2|___3    \n",
      "            |            |   \n",
      "            |           1|___4    \n",
      "            |            |   \n",
      "            |           2|___5    \n",
      "            |            |   \n",
      "            |____________|\n",
      "\n",
      "================BONDS===============\n",
      "IN : (U1 = 1, P = 0, 0)|1, (U1 = -1, P = 0, 0)|1, Dim = 2\n",
      "IN : (U1 = 1, P = 0, 0)|1, (U1 = -1, P = 0, 0)|1, Dim = 2\n",
      "OUT: (U1 = 2, P = 0, 0)|1, Dim = 1\n",
      "OUT: (U1 = 1, P = 0, 0)|1, (U1 = -1, P = 0, 0)|1, Dim = 2\n",
      "OUT: (U1 = -2, P = 0, 0)|1, Dim = 1\n",
      "OUT: (U1 = 1, P = 0, 0)|1, (U1 = -1, P = 0, 0)|1, Dim = 2\n",
      "\n",
      "===============BLOCKS===============\n",
      "--- (U1 = -2, P = 0, 0): 1 x 1 = 1, REAL\n",
      "\n",
      "            0.000\n",
      "\n",
      "--- (U1 = 0, P = 0, 0): 2 x 2 = 4, REAL\n",
      "\n",
      "            0.000            1.000\n",
      "\n",
      "            0.000            0.000\n",
      "\n",
      "--- (U1 = 2, P = 0, 0): 1 x 1 = 1, REAL\n",
      "\n",
      "            0.000\n",
      "\n",
      "Total elemNum: 6\n",
      "***************** END ****************\n",
      "\n",
      "\n"
     ]
    }
   ],
   "source": [
    "SpSm = uni10.otimes(Sp, Sm)\n",
    "print(SpSm)"
   ]
  },
  {
   "cell_type": "code",
   "execution_count": 9,
   "metadata": {
    "collapsed": false
   },
   "outputs": [
    {
     "name": "stdout",
     "output_type": "stream",
     "text": [
      "************************************\n",
      "REAL\n",
      "\n",
      "             ____________\n",
      "            |            |\n",
      "        0___|2          2|___2    \n",
      "            |            |   \n",
      "        1___|2          2|___3    \n",
      "            |            |   \n",
      "            |____________|\n",
      "\n",
      "================BONDS===============\n",
      "IN : (U1 = 1, P = 0, 0)|1, (U1 = -1, P = 0, 0)|1, Dim = 2\n",
      "IN : (U1 = 1, P = 0, 0)|1, (U1 = -1, P = 0, 0)|1, Dim = 2\n",
      "OUT: (U1 = 1, P = 0, 0)|1, (U1 = -1, P = 0, 0)|1, Dim = 2\n",
      "OUT: (U1 = 1, P = 0, 0)|1, (U1 = -1, P = 0, 0)|1, Dim = 2\n",
      "\n",
      "===============BLOCKS===============\n",
      "--- (U1 = -2, P = 0, 0): 1 x 1 = 1, REAL\n",
      "\n",
      "            0.000\n",
      "\n",
      "--- (U1 = 0, P = 0, 0): 2 x 2 = 4, REAL\n",
      "\n",
      "            0.000            1.000\n",
      "\n",
      "            0.000            0.000\n",
      "\n",
      "--- (U1 = 2, P = 0, 0): 1 x 1 = 1, REAL\n",
      "\n",
      "            0.000\n",
      "\n",
      "Total elemNum: 6\n",
      "***************** END ****************\n",
      "\n",
      "\n"
     ]
    }
   ],
   "source": [
    "# print SpSm\n",
    "SpSm.combineBond([2, 3, 4])\n",
    "SpSm.setLabel([0,1,2,3])\n",
    "print(SpSm)"
   ]
  },
  {
   "cell_type": "code",
   "execution_count": 10,
   "metadata": {
    "collapsed": false
   },
   "outputs": [
    {
     "name": "stdout",
     "output_type": "stream",
     "text": [
      "************************************\n",
      "REAL\n",
      "\n",
      "             ____________\n",
      "            |            |\n",
      "        0___|2          2|___2    \n",
      "            |            |   \n",
      "        1___|2          2|___3    \n",
      "            |            |   \n",
      "            |____________|\n",
      "\n",
      "================BONDS===============\n",
      "IN : (U1 = 1, P = 0, 0)|1, (U1 = -1, P = 0, 0)|1, Dim = 2\n",
      "IN : (U1 = 1, P = 0, 0)|1, (U1 = -1, P = 0, 0)|1, Dim = 2\n",
      "OUT: (U1 = 1, P = 0, 0)|1, (U1 = -1, P = 0, 0)|1, Dim = 2\n",
      "OUT: (U1 = 1, P = 0, 0)|1, (U1 = -1, P = 0, 0)|1, Dim = 2\n",
      "\n",
      "===============BLOCKS===============\n",
      "--- (U1 = -2, P = 0, 0): 1 x 1 = 1, REAL\n",
      "\n",
      "            0.000\n",
      "\n",
      "--- (U1 = 0, P = 0, 0): 2 x 2 = 4, REAL\n",
      "\n",
      "            0.000            0.000\n",
      "\n",
      "            1.000            0.000\n",
      "\n",
      "--- (U1 = 2, P = 0, 0): 1 x 1 = 1, REAL\n",
      "\n",
      "            0.000\n",
      "\n",
      "Total elemNum: 6\n",
      "***************** END ****************\n",
      "\n",
      "\n"
     ]
    }
   ],
   "source": [
    "SmSp = uni10.otimes(Sm, Sp)\n",
    "SmSp.combineBond([2, 3, 4])\n",
    "SmSp.setLabel([0,1,2,3])\n",
    "print(SmSp)"
   ]
  },
  {
   "cell_type": "code",
   "execution_count": 11,
   "metadata": {
    "collapsed": false
   },
   "outputs": [
    {
     "name": "stdout",
     "output_type": "stream",
     "text": [
      "************************************\n",
      "REAL\n",
      "\n",
      "             ____________\n",
      "            |            |\n",
      "        0___|2          2|___2    \n",
      "            |            |   \n",
      "        1___|2          2|___3    \n",
      "            |            |   \n",
      "            |____________|\n",
      "\n",
      "================BONDS===============\n",
      "IN : (U1 = 1, P = 0, 0)|1, (U1 = -1, P = 0, 0)|1, Dim = 2\n",
      "IN : (U1 = 1, P = 0, 0)|1, (U1 = -1, P = 0, 0)|1, Dim = 2\n",
      "OUT: (U1 = 1, P = 0, 0)|1, (U1 = -1, P = 0, 0)|1, Dim = 2\n",
      "OUT: (U1 = 1, P = 0, 0)|1, (U1 = -1, P = 0, 0)|1, Dim = 2\n",
      "\n",
      "===============BLOCKS===============\n",
      "--- (U1 = -2, P = 0, 0): 1 x 1 = 1, REAL\n",
      "\n",
      "            0.250\n",
      "\n",
      "--- (U1 = 0, P = 0, 0): 2 x 2 = 4, REAL\n",
      "\n",
      "           -0.250            0.000\n",
      "\n",
      "            0.000           -0.250\n",
      "\n",
      "--- (U1 = 2, P = 0, 0): 1 x 1 = 1, REAL\n",
      "\n",
      "            0.250\n",
      "\n",
      "Total elemNum: 6\n",
      "***************** END ****************\n",
      "\n",
      "\n"
     ]
    }
   ],
   "source": [
    "SzSz = uni10.otimes(Sz, Sz)\n",
    "print(SzSz)"
   ]
  },
  {
   "cell_type": "code",
   "execution_count": 12,
   "metadata": {
    "collapsed": false
   },
   "outputs": [
    {
     "name": "stdout",
     "output_type": "stream",
     "text": [
      "************************************\n",
      "REAL\n",
      "\n",
      "             ____________\n",
      "            |            |\n",
      "        0___|2          2|___2    \n",
      "            |            |   \n",
      "        1___|2          2|___3    \n",
      "            |            |   \n",
      "            |____________|\n",
      "\n",
      "================BONDS===============\n",
      "IN : (U1 = 1, P = 0, 0)|1, (U1 = -1, P = 0, 0)|1, Dim = 2\n",
      "IN : (U1 = 1, P = 0, 0)|1, (U1 = -1, P = 0, 0)|1, Dim = 2\n",
      "OUT: (U1 = 1, P = 0, 0)|1, (U1 = -1, P = 0, 0)|1, Dim = 2\n",
      "OUT: (U1 = 1, P = 0, 0)|1, (U1 = -1, P = 0, 0)|1, Dim = 2\n",
      "\n",
      "===============BLOCKS===============\n",
      "--- (U1 = -2, P = 0, 0): 1 x 1 = 1, REAL\n",
      "\n",
      "            0.250\n",
      "\n",
      "--- (U1 = 0, P = 0, 0): 2 x 2 = 4, REAL\n",
      "\n",
      "           -0.250            0.500\n",
      "\n",
      "            0.500           -0.250\n",
      "\n",
      "--- (U1 = 2, P = 0, 0): 1 x 1 = 1, REAL\n",
      "\n",
      "            0.250\n",
      "\n",
      "Total elemNum: 6\n",
      "***************** END ****************\n",
      "\n",
      "\n"
     ]
    }
   ],
   "source": [
    "H = 0.5 * (SpSm + SmSp) + SzSz\n",
    "print(H)"
   ]
  },
  {
   "cell_type": "code",
   "execution_count": 13,
   "metadata": {
    "collapsed": false
   },
   "outputs": [
    {
     "name": "stdout",
     "output_type": "stream",
     "text": [
      "(U1 = -2, P = 0, 0)\n",
      "<class 'pyUni10.pyUni10.Matrix'>\n",
      "1 x 1 = 1, REAL\n",
      "\n",
      "            0.250\n",
      "\n",
      "\n",
      "(U1 = 0, P = 0, 0)\n",
      "<class 'pyUni10.pyUni10.Matrix'>\n",
      "2 x 2 = 4, REAL\n",
      "\n",
      "           -0.250            0.500\n",
      "\n",
      "            0.500           -0.250\n",
      "\n",
      "\n",
      "(U1 = 2, P = 0, 0)\n",
      "<class 'pyUni10.pyUni10.Matrix'>\n",
      "1 x 1 = 1, REAL\n",
      "\n",
      "            0.250\n",
      "\n",
      "\n"
     ]
    }
   ],
   "source": [
    "for q in H.getBlocks():\n",
    "    print(q)\n",
    "#     print(H.getBlock(q))\n",
    "    H_q = H.getBlock(q)\n",
    "    print(type(H_q))\n",
    "    print(H_q)"
   ]
  },
  {
   "cell_type": "code",
   "execution_count": 14,
   "metadata": {
    "collapsed": false
   },
   "outputs": [
    {
     "data": {
      "text/plain": [
       "(2 x 2 = 2, REAL, Diagonal\n",
       " \n",
       "            -0.750            0.000\n",
       " \n",
       "             0.000            0.250\n",
       " , 2 x 2 = 4, REAL\n",
       " \n",
       "             0.707           -0.707\n",
       " \n",
       "             0.707            0.707\n",
       " )"
      ]
     },
     "execution_count": 14,
     "metadata": {},
     "output_type": "execute_result"
    }
   ],
   "source": [
    "Hq_Matrix = H.getBlock(q0)\n",
    "Hq_Matrix.eigh()"
   ]
  }
 ],
 "metadata": {
  "kernelspec": {
   "display_name": "Python 3",
   "language": "python",
   "name": "python3"
  },
  "language_info": {
   "codemirror_mode": {
    "name": "ipython",
    "version": 3
   },
   "file_extension": ".py",
   "mimetype": "text/x-python",
   "name": "python",
   "nbconvert_exporter": "python",
   "pygments_lexer": "ipython3",
   "version": "3.5.1"
  }
 },
 "nbformat": 4,
 "nbformat_minor": 0
}
